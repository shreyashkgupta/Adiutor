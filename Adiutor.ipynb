{
 "cells": [
  {
   "cell_type": "markdown",
   "metadata": {},
   "source": [
    "# Voice assistant - Adiutor"
   ]
  },
  {
   "cell_type": "markdown",
   "metadata": {},
   "source": [
    "A simple voice assistant that can perform different functionalities based on user speech input."
   ]
  },
  {
   "cell_type": "markdown",
   "metadata": {},
   "source": [
    "Author: Shreyash Gupta"
   ]
  },
  {
   "cell_type": "markdown",
   "metadata": {},
   "source": [
    "### Defining a function to take user input via the microphone"
   ]
  },
  {
   "cell_type": "code",
   "execution_count": null,
   "metadata": {},
   "outputs": [],
   "source": [
    "import speech_recognition as sr\n",
    "def user_speech_input():\n",
    "    speech_recognizer = sr.Recognizer()\n",
    "    with sr.Microphone() as source:\n",
    "        print(\"Hi! I'm Adiutor, your personal voice assistant! Go ahead and ask me something...\")\n",
    "        speech_recognizer.pause_threshold = 1\n",
    "        speech_recognizer.adjust_for_ambient_noise(source, duration = 1)\n",
    "        audio = speech_recognizer.listen(source)\n",
    "        \n",
    "        try:\n",
    "            task = speech_recognizer.recognize_google(audio).lower()\n",
    "            print(\"User: \" + speech_recognizer.recognize_google(audio))\n",
    "        except sr.UnknownValueError:\n",
    "            print(\"Sorry, I did not quite catch that. Please say that again...\")\n",
    "            task = user_speech_input()\n",
    "        return task"
   ]
  },
  {
   "cell_type": "markdown",
   "metadata": {},
   "source": [
    "### Defining a function to convert speech to text"
   ]
  },
  {
   "cell_type": "code",
   "execution_count": null,
   "metadata": {},
   "outputs": [],
   "source": [
    "import os\n",
    "def speech_to_text(audio):\n",
    "    print(audio)\n",
    "    for line in audio.splitlines():\n",
    "        os.system(audio)"
   ]
  },
  {
   "cell_type": "markdown",
   "metadata": {},
   "source": [
    "### Defining a function that handles all the functionalities of the assistant"
   ]
  },
  {
   "cell_type": "code",
   "execution_count": null,
   "metadata": {
    "scrolled": true
   },
   "outputs": [],
   "source": [
    "import re\n",
    "import webbrowser as wb\n",
    "import subprocess\n",
    "from pyowm import OWM\n",
    "import datetime\n",
    "import wikipedia\n",
    "from time import strftime\n",
    "import sys\n",
    "def adiutor(task):\n",
    "    if \"open\" in task:\n",
    "        reg_ex = re.search(\"open (.+)\", task)\n",
    "        if reg_ex:\n",
    "            domain = reg_ex.group(1)\n",
    "            url = \"https://www.\" + domain\n",
    "            wb.open(url)\n",
    "            speech_to_text(\"Opened \" + url)\n",
    "    \n",
    "    elif \"launch\" in task:\n",
    "        reg_ex = re.search(\"launch (.*)\", task)\n",
    "        if reg_ex:\n",
    "            app_name = reg_ex.group(1)\n",
    "            application = app_name + \".app\"\n",
    "            subprocess.Popen([\"open\", \"-n\", \"/Applications/\" + application], stdout = subprocess.PIPE)\n",
    "            speech_to_text(\"Launched \" + app_name)\n",
    "    \n",
    "    elif \"current weather\" in task:\n",
    "        reg_ex = re.search(\"current weather in (.*)\", task)\n",
    "        location = reg_ex.group(1)\n",
    "        owm = OWM(API_key = \"ab0d5e80e8dafb2cb81fa9e82431c1fa\")\n",
    "        obs = owm.weather_at_place(location)\n",
    "        weather = obs.get_weather()\n",
    "        status = weather.get_status()\n",
    "        temp = weather.get_temperature(unit = \"celsius\")\n",
    "        speech_to_text('''\n",
    "        %s\n",
    "        Max: %0.2f C\n",
    "        Min: %0.2f C''' %(location, temp[\"temp_max\"], temp[\"temp_min\"]))\n",
    "        \n",
    "    elif \"time\" in task:\n",
    "        time = datetime.datetime.now()\n",
    "        speech_to_text(\"It is %d:%d right now.\" % (time.hour, time.minute))\n",
    "    \n",
    "    elif \"tell me about\" in task:\n",
    "        reg_ex = re.search(\"tell me about (.*)\", task)\n",
    "        try:\n",
    "            topic = reg_ex.group(1)\n",
    "            wiki = wikipedia.page(topic)\n",
    "            speech_to_text(wiki.content[:500])\n",
    "        except Exception as exc:\n",
    "            speech_to_text(exc)\n",
    "    \n",
    "    elif \"hello\" in task:\n",
    "        time = int(strftime(\"%H\"))\n",
    "        if time < 12:\n",
    "            speech_to_text(\"Good morning!\")\n",
    "        else:\n",
    "            speech_to_text(\"Hey there!\")\n",
    "            \n",
    "    elif \"help\" in task:\n",
    "        print('''Ask me anything like...\n",
    "        1. Open xyz.com - open a website\n",
    "        2. Launch app - launch any application\n",
    "        3. Current weather in city - get weather details about any city\n",
    "        4. Time - know the current time\n",
    "        5. Tell me about something - get information about something''')\n",
    "    \n",
    "    elif \"bye\" in task:\n",
    "        speech_to_text(\"Have a good day!\")\n",
    "        sys.exit()       "
   ]
  },
  {
   "cell_type": "markdown",
   "metadata": {},
   "source": [
    "### Running the assistant iteratively"
   ]
  },
  {
   "cell_type": "code",
   "execution_count": null,
   "metadata": {
    "scrolled": false
   },
   "outputs": [],
   "source": [
    "while(True):\n",
    "    adiutor(user_speech_input())"
   ]
  }
 ],
 "metadata": {
  "kernelspec": {
   "display_name": "Python 3",
   "language": "python",
   "name": "python3"
  },
  "language_info": {
   "codemirror_mode": {
    "name": "ipython",
    "version": 3
   },
   "file_extension": ".py",
   "mimetype": "text/x-python",
   "name": "python",
   "nbconvert_exporter": "python",
   "pygments_lexer": "ipython3",
   "version": "3.7.4"
  }
 },
 "nbformat": 4,
 "nbformat_minor": 2
}
